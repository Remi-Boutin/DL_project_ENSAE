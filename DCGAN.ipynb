{
  "nbformat": 4,
  "nbformat_minor": 0,
  "metadata": {
    "accelerator": "GPU",
    "colab": {
      "name": "Project_colab.ipynb",
      "provenance": [],
      "collapsed_sections": [],
      "include_colab_link": true
    },
    "kernelspec": {
      "display_name": "Python 3",
      "language": "python",
      "name": "python3"
    },
    "language_info": {
      "codemirror_mode": {
        "name": "ipython",
        "version": 3
      },
      "file_extension": ".py",
      "mimetype": "text/x-python",
      "name": "python",
      "nbconvert_exporter": "python",
      "pygments_lexer": "ipython3",
      "version": "3.6.10"
    },
    "widgets": {
      "application/vnd.jupyter.widget-state+json": {
        "7421b2e0e228436f95ddc485999bce82": {
          "model_module": "@jupyter-widgets/controls",
          "model_name": "HBoxModel",
          "state": {
            "_view_name": "HBoxView",
            "_dom_classes": [],
            "_model_name": "HBoxModel",
            "_view_module": "@jupyter-widgets/controls",
            "_model_module_version": "1.5.0",
            "_view_count": null,
            "_view_module_version": "1.5.0",
            "box_style": "",
            "layout": "IPY_MODEL_1dcf16f9ef4e4f0ab1636dd57c7c5808",
            "_model_module": "@jupyter-widgets/controls",
            "children": [
              "IPY_MODEL_b4013560b797451d901a875657f24cf4",
              "IPY_MODEL_63d75f1ca0c34ec5b7df548ef9517eb6"
            ]
          }
        },
        "1dcf16f9ef4e4f0ab1636dd57c7c5808": {
          "model_module": "@jupyter-widgets/base",
          "model_name": "LayoutModel",
          "state": {
            "_view_name": "LayoutView",
            "grid_template_rows": null,
            "right": null,
            "justify_content": null,
            "_view_module": "@jupyter-widgets/base",
            "overflow": null,
            "_model_module_version": "1.2.0",
            "_view_count": null,
            "flex_flow": null,
            "width": null,
            "min_width": null,
            "border": null,
            "align_items": null,
            "bottom": null,
            "_model_module": "@jupyter-widgets/base",
            "top": null,
            "grid_column": null,
            "overflow_y": null,
            "overflow_x": null,
            "grid_auto_flow": null,
            "grid_area": null,
            "grid_template_columns": null,
            "flex": null,
            "_model_name": "LayoutModel",
            "justify_items": null,
            "grid_row": null,
            "max_height": null,
            "align_content": null,
            "visibility": null,
            "align_self": null,
            "height": null,
            "min_height": null,
            "padding": null,
            "grid_auto_rows": null,
            "grid_gap": null,
            "max_width": null,
            "order": null,
            "_view_module_version": "1.2.0",
            "grid_template_areas": null,
            "object_position": null,
            "object_fit": null,
            "grid_auto_columns": null,
            "margin": null,
            "display": null,
            "left": null
          }
        },
        "b4013560b797451d901a875657f24cf4": {
          "model_module": "@jupyter-widgets/controls",
          "model_name": "FloatProgressModel",
          "state": {
            "_view_name": "ProgressView",
            "style": "IPY_MODEL_a323d549179648b688b538d32a7aa5b6",
            "_dom_classes": [],
            "description": "",
            "_model_name": "FloatProgressModel",
            "bar_style": "info",
            "max": 1,
            "_view_module": "@jupyter-widgets/controls",
            "_model_module_version": "1.5.0",
            "value": 1,
            "_view_count": null,
            "_view_module_version": "1.5.0",
            "orientation": "horizontal",
            "min": 0,
            "description_tooltip": null,
            "_model_module": "@jupyter-widgets/controls",
            "layout": "IPY_MODEL_c6e016c0af8e47109c7c85559e424666"
          }
        },
        "63d75f1ca0c34ec5b7df548ef9517eb6": {
          "model_module": "@jupyter-widgets/controls",
          "model_name": "HTMLModel",
          "state": {
            "_view_name": "HTMLView",
            "style": "IPY_MODEL_e583010966304f2cb59797fb31116ee9",
            "_dom_classes": [],
            "description": "",
            "_model_name": "HTMLModel",
            "placeholder": "​",
            "_view_module": "@jupyter-widgets/controls",
            "_model_module_version": "1.5.0",
            "value": " 9920512/? [00:19&lt;00:00, 1341731.11it/s]",
            "_view_count": null,
            "_view_module_version": "1.5.0",
            "description_tooltip": null,
            "_model_module": "@jupyter-widgets/controls",
            "layout": "IPY_MODEL_12ce08d2eb2149209ef808eab1f4a058"
          }
        },
        "a323d549179648b688b538d32a7aa5b6": {
          "model_module": "@jupyter-widgets/controls",
          "model_name": "ProgressStyleModel",
          "state": {
            "_view_name": "StyleView",
            "_model_name": "ProgressStyleModel",
            "description_width": "initial",
            "_view_module": "@jupyter-widgets/base",
            "_model_module_version": "1.5.0",
            "_view_count": null,
            "_view_module_version": "1.2.0",
            "bar_color": null,
            "_model_module": "@jupyter-widgets/controls"
          }
        },
        "c6e016c0af8e47109c7c85559e424666": {
          "model_module": "@jupyter-widgets/base",
          "model_name": "LayoutModel",
          "state": {
            "_view_name": "LayoutView",
            "grid_template_rows": null,
            "right": null,
            "justify_content": null,
            "_view_module": "@jupyter-widgets/base",
            "overflow": null,
            "_model_module_version": "1.2.0",
            "_view_count": null,
            "flex_flow": null,
            "width": null,
            "min_width": null,
            "border": null,
            "align_items": null,
            "bottom": null,
            "_model_module": "@jupyter-widgets/base",
            "top": null,
            "grid_column": null,
            "overflow_y": null,
            "overflow_x": null,
            "grid_auto_flow": null,
            "grid_area": null,
            "grid_template_columns": null,
            "flex": null,
            "_model_name": "LayoutModel",
            "justify_items": null,
            "grid_row": null,
            "max_height": null,
            "align_content": null,
            "visibility": null,
            "align_self": null,
            "height": null,
            "min_height": null,
            "padding": null,
            "grid_auto_rows": null,
            "grid_gap": null,
            "max_width": null,
            "order": null,
            "_view_module_version": "1.2.0",
            "grid_template_areas": null,
            "object_position": null,
            "object_fit": null,
            "grid_auto_columns": null,
            "margin": null,
            "display": null,
            "left": null
          }
        },
        "e583010966304f2cb59797fb31116ee9": {
          "model_module": "@jupyter-widgets/controls",
          "model_name": "DescriptionStyleModel",
          "state": {
            "_view_name": "StyleView",
            "_model_name": "DescriptionStyleModel",
            "description_width": "",
            "_view_module": "@jupyter-widgets/base",
            "_model_module_version": "1.5.0",
            "_view_count": null,
            "_view_module_version": "1.2.0",
            "_model_module": "@jupyter-widgets/controls"
          }
        },
        "12ce08d2eb2149209ef808eab1f4a058": {
          "model_module": "@jupyter-widgets/base",
          "model_name": "LayoutModel",
          "state": {
            "_view_name": "LayoutView",
            "grid_template_rows": null,
            "right": null,
            "justify_content": null,
            "_view_module": "@jupyter-widgets/base",
            "overflow": null,
            "_model_module_version": "1.2.0",
            "_view_count": null,
            "flex_flow": null,
            "width": null,
            "min_width": null,
            "border": null,
            "align_items": null,
            "bottom": null,
            "_model_module": "@jupyter-widgets/base",
            "top": null,
            "grid_column": null,
            "overflow_y": null,
            "overflow_x": null,
            "grid_auto_flow": null,
            "grid_area": null,
            "grid_template_columns": null,
            "flex": null,
            "_model_name": "LayoutModel",
            "justify_items": null,
            "grid_row": null,
            "max_height": null,
            "align_content": null,
            "visibility": null,
            "align_self": null,
            "height": null,
            "min_height": null,
            "padding": null,
            "grid_auto_rows": null,
            "grid_gap": null,
            "max_width": null,
            "order": null,
            "_view_module_version": "1.2.0",
            "grid_template_areas": null,
            "object_position": null,
            "object_fit": null,
            "grid_auto_columns": null,
            "margin": null,
            "display": null,
            "left": null
          }
        },
        "bd864bd42d08482192720c2b018d6fd4": {
          "model_module": "@jupyter-widgets/controls",
          "model_name": "HBoxModel",
          "state": {
            "_view_name": "HBoxView",
            "_dom_classes": [],
            "_model_name": "HBoxModel",
            "_view_module": "@jupyter-widgets/controls",
            "_model_module_version": "1.5.0",
            "_view_count": null,
            "_view_module_version": "1.5.0",
            "box_style": "",
            "layout": "IPY_MODEL_6bd51f4e31ab4f1fa9fec081969d68e9",
            "_model_module": "@jupyter-widgets/controls",
            "children": [
              "IPY_MODEL_9321f0433c8e465589b8eecacdc5c1d9",
              "IPY_MODEL_d83f10a8c894424fb6d35d9dd2a67a11"
            ]
          }
        },
        "6bd51f4e31ab4f1fa9fec081969d68e9": {
          "model_module": "@jupyter-widgets/base",
          "model_name": "LayoutModel",
          "state": {
            "_view_name": "LayoutView",
            "grid_template_rows": null,
            "right": null,
            "justify_content": null,
            "_view_module": "@jupyter-widgets/base",
            "overflow": null,
            "_model_module_version": "1.2.0",
            "_view_count": null,
            "flex_flow": null,
            "width": null,
            "min_width": null,
            "border": null,
            "align_items": null,
            "bottom": null,
            "_model_module": "@jupyter-widgets/base",
            "top": null,
            "grid_column": null,
            "overflow_y": null,
            "overflow_x": null,
            "grid_auto_flow": null,
            "grid_area": null,
            "grid_template_columns": null,
            "flex": null,
            "_model_name": "LayoutModel",
            "justify_items": null,
            "grid_row": null,
            "max_height": null,
            "align_content": null,
            "visibility": null,
            "align_self": null,
            "height": null,
            "min_height": null,
            "padding": null,
            "grid_auto_rows": null,
            "grid_gap": null,
            "max_width": null,
            "order": null,
            "_view_module_version": "1.2.0",
            "grid_template_areas": null,
            "object_position": null,
            "object_fit": null,
            "grid_auto_columns": null,
            "margin": null,
            "display": null,
            "left": null
          }
        },
        "9321f0433c8e465589b8eecacdc5c1d9": {
          "model_module": "@jupyter-widgets/controls",
          "model_name": "FloatProgressModel",
          "state": {
            "_view_name": "ProgressView",
            "style": "IPY_MODEL_c52c086b64e441d89394c64ccf4369d7",
            "_dom_classes": [],
            "description": "",
            "_model_name": "FloatProgressModel",
            "bar_style": "info",
            "max": 1,
            "_view_module": "@jupyter-widgets/controls",
            "_model_module_version": "1.5.0",
            "value": 1,
            "_view_count": null,
            "_view_module_version": "1.5.0",
            "orientation": "horizontal",
            "min": 0,
            "description_tooltip": null,
            "_model_module": "@jupyter-widgets/controls",
            "layout": "IPY_MODEL_06acce94b82846afaed5bdad772d7ce9"
          }
        },
        "d83f10a8c894424fb6d35d9dd2a67a11": {
          "model_module": "@jupyter-widgets/controls",
          "model_name": "HTMLModel",
          "state": {
            "_view_name": "HTMLView",
            "style": "IPY_MODEL_90f7e186b2274d67b5de36e5032dbe8e",
            "_dom_classes": [],
            "description": "",
            "_model_name": "HTMLModel",
            "placeholder": "​",
            "_view_module": "@jupyter-widgets/controls",
            "_model_module_version": "1.5.0",
            "value": " 32768/? [00:16&lt;00:00, 83464.68it/s]",
            "_view_count": null,
            "_view_module_version": "1.5.0",
            "description_tooltip": null,
            "_model_module": "@jupyter-widgets/controls",
            "layout": "IPY_MODEL_614c283586fe4e3498b22c6d3ba26bdd"
          }
        },
        "c52c086b64e441d89394c64ccf4369d7": {
          "model_module": "@jupyter-widgets/controls",
          "model_name": "ProgressStyleModel",
          "state": {
            "_view_name": "StyleView",
            "_model_name": "ProgressStyleModel",
            "description_width": "initial",
            "_view_module": "@jupyter-widgets/base",
            "_model_module_version": "1.5.0",
            "_view_count": null,
            "_view_module_version": "1.2.0",
            "bar_color": null,
            "_model_module": "@jupyter-widgets/controls"
          }
        },
        "06acce94b82846afaed5bdad772d7ce9": {
          "model_module": "@jupyter-widgets/base",
          "model_name": "LayoutModel",
          "state": {
            "_view_name": "LayoutView",
            "grid_template_rows": null,
            "right": null,
            "justify_content": null,
            "_view_module": "@jupyter-widgets/base",
            "overflow": null,
            "_model_module_version": "1.2.0",
            "_view_count": null,
            "flex_flow": null,
            "width": null,
            "min_width": null,
            "border": null,
            "align_items": null,
            "bottom": null,
            "_model_module": "@jupyter-widgets/base",
            "top": null,
            "grid_column": null,
            "overflow_y": null,
            "overflow_x": null,
            "grid_auto_flow": null,
            "grid_area": null,
            "grid_template_columns": null,
            "flex": null,
            "_model_name": "LayoutModel",
            "justify_items": null,
            "grid_row": null,
            "max_height": null,
            "align_content": null,
            "visibility": null,
            "align_self": null,
            "height": null,
            "min_height": null,
            "padding": null,
            "grid_auto_rows": null,
            "grid_gap": null,
            "max_width": null,
            "order": null,
            "_view_module_version": "1.2.0",
            "grid_template_areas": null,
            "object_position": null,
            "object_fit": null,
            "grid_auto_columns": null,
            "margin": null,
            "display": null,
            "left": null
          }
        },
        "90f7e186b2274d67b5de36e5032dbe8e": {
          "model_module": "@jupyter-widgets/controls",
          "model_name": "DescriptionStyleModel",
          "state": {
            "_view_name": "StyleView",
            "_model_name": "DescriptionStyleModel",
            "description_width": "",
            "_view_module": "@jupyter-widgets/base",
            "_model_module_version": "1.5.0",
            "_view_count": null,
            "_view_module_version": "1.2.0",
            "_model_module": "@jupyter-widgets/controls"
          }
        },
        "614c283586fe4e3498b22c6d3ba26bdd": {
          "model_module": "@jupyter-widgets/base",
          "model_name": "LayoutModel",
          "state": {
            "_view_name": "LayoutView",
            "grid_template_rows": null,
            "right": null,
            "justify_content": null,
            "_view_module": "@jupyter-widgets/base",
            "overflow": null,
            "_model_module_version": "1.2.0",
            "_view_count": null,
            "flex_flow": null,
            "width": null,
            "min_width": null,
            "border": null,
            "align_items": null,
            "bottom": null,
            "_model_module": "@jupyter-widgets/base",
            "top": null,
            "grid_column": null,
            "overflow_y": null,
            "overflow_x": null,
            "grid_auto_flow": null,
            "grid_area": null,
            "grid_template_columns": null,
            "flex": null,
            "_model_name": "LayoutModel",
            "justify_items": null,
            "grid_row": null,
            "max_height": null,
            "align_content": null,
            "visibility": null,
            "align_self": null,
            "height": null,
            "min_height": null,
            "padding": null,
            "grid_auto_rows": null,
            "grid_gap": null,
            "max_width": null,
            "order": null,
            "_view_module_version": "1.2.0",
            "grid_template_areas": null,
            "object_position": null,
            "object_fit": null,
            "grid_auto_columns": null,
            "margin": null,
            "display": null,
            "left": null
          }
        },
        "e026db1e9ab34ef1a13d2ddbff1a0aa8": {
          "model_module": "@jupyter-widgets/controls",
          "model_name": "HBoxModel",
          "state": {
            "_view_name": "HBoxView",
            "_dom_classes": [],
            "_model_name": "HBoxModel",
            "_view_module": "@jupyter-widgets/controls",
            "_model_module_version": "1.5.0",
            "_view_count": null,
            "_view_module_version": "1.5.0",
            "box_style": "",
            "layout": "IPY_MODEL_de0e0dc02f4647a1a8995142facf018d",
            "_model_module": "@jupyter-widgets/controls",
            "children": [
              "IPY_MODEL_34a442d24ad24062bb7417ad1d83728f",
              "IPY_MODEL_a79885862a974e67a60d2a67ae607b71"
            ]
          }
        },
        "de0e0dc02f4647a1a8995142facf018d": {
          "model_module": "@jupyter-widgets/base",
          "model_name": "LayoutModel",
          "state": {
            "_view_name": "LayoutView",
            "grid_template_rows": null,
            "right": null,
            "justify_content": null,
            "_view_module": "@jupyter-widgets/base",
            "overflow": null,
            "_model_module_version": "1.2.0",
            "_view_count": null,
            "flex_flow": null,
            "width": null,
            "min_width": null,
            "border": null,
            "align_items": null,
            "bottom": null,
            "_model_module": "@jupyter-widgets/base",
            "top": null,
            "grid_column": null,
            "overflow_y": null,
            "overflow_x": null,
            "grid_auto_flow": null,
            "grid_area": null,
            "grid_template_columns": null,
            "flex": null,
            "_model_name": "LayoutModel",
            "justify_items": null,
            "grid_row": null,
            "max_height": null,
            "align_content": null,
            "visibility": null,
            "align_self": null,
            "height": null,
            "min_height": null,
            "padding": null,
            "grid_auto_rows": null,
            "grid_gap": null,
            "max_width": null,
            "order": null,
            "_view_module_version": "1.2.0",
            "grid_template_areas": null,
            "object_position": null,
            "object_fit": null,
            "grid_auto_columns": null,
            "margin": null,
            "display": null,
            "left": null
          }
        },
        "34a442d24ad24062bb7417ad1d83728f": {
          "model_module": "@jupyter-widgets/controls",
          "model_name": "FloatProgressModel",
          "state": {
            "_view_name": "ProgressView",
            "style": "IPY_MODEL_925a717de1b54b718f7000d525ed892a",
            "_dom_classes": [],
            "description": "",
            "_model_name": "FloatProgressModel",
            "bar_style": "success",
            "max": 1,
            "_view_module": "@jupyter-widgets/controls",
            "_model_module_version": "1.5.0",
            "value": 1,
            "_view_count": null,
            "_view_module_version": "1.5.0",
            "orientation": "horizontal",
            "min": 0,
            "description_tooltip": null,
            "_model_module": "@jupyter-widgets/controls",
            "layout": "IPY_MODEL_20cd0f5fc7124d56a5b3c190e8b857a2"
          }
        },
        "a79885862a974e67a60d2a67ae607b71": {
          "model_module": "@jupyter-widgets/controls",
          "model_name": "HTMLModel",
          "state": {
            "_view_name": "HTMLView",
            "style": "IPY_MODEL_571febaf632a4ada8a7191f970693cab",
            "_dom_classes": [],
            "description": "",
            "_model_name": "HTMLModel",
            "placeholder": "​",
            "_view_module": "@jupyter-widgets/controls",
            "_model_module_version": "1.5.0",
            "value": " 1654784/? [00:02&lt;00:00, 679343.97it/s]",
            "_view_count": null,
            "_view_module_version": "1.5.0",
            "description_tooltip": null,
            "_model_module": "@jupyter-widgets/controls",
            "layout": "IPY_MODEL_a2cd79433c684314a536b804b29ec075"
          }
        },
        "925a717de1b54b718f7000d525ed892a": {
          "model_module": "@jupyter-widgets/controls",
          "model_name": "ProgressStyleModel",
          "state": {
            "_view_name": "StyleView",
            "_model_name": "ProgressStyleModel",
            "description_width": "initial",
            "_view_module": "@jupyter-widgets/base",
            "_model_module_version": "1.5.0",
            "_view_count": null,
            "_view_module_version": "1.2.0",
            "bar_color": null,
            "_model_module": "@jupyter-widgets/controls"
          }
        },
        "20cd0f5fc7124d56a5b3c190e8b857a2": {
          "model_module": "@jupyter-widgets/base",
          "model_name": "LayoutModel",
          "state": {
            "_view_name": "LayoutView",
            "grid_template_rows": null,
            "right": null,
            "justify_content": null,
            "_view_module": "@jupyter-widgets/base",
            "overflow": null,
            "_model_module_version": "1.2.0",
            "_view_count": null,
            "flex_flow": null,
            "width": null,
            "min_width": null,
            "border": null,
            "align_items": null,
            "bottom": null,
            "_model_module": "@jupyter-widgets/base",
            "top": null,
            "grid_column": null,
            "overflow_y": null,
            "overflow_x": null,
            "grid_auto_flow": null,
            "grid_area": null,
            "grid_template_columns": null,
            "flex": null,
            "_model_name": "LayoutModel",
            "justify_items": null,
            "grid_row": null,
            "max_height": null,
            "align_content": null,
            "visibility": null,
            "align_self": null,
            "height": null,
            "min_height": null,
            "padding": null,
            "grid_auto_rows": null,
            "grid_gap": null,
            "max_width": null,
            "order": null,
            "_view_module_version": "1.2.0",
            "grid_template_areas": null,
            "object_position": null,
            "object_fit": null,
            "grid_auto_columns": null,
            "margin": null,
            "display": null,
            "left": null
          }
        },
        "571febaf632a4ada8a7191f970693cab": {
          "model_module": "@jupyter-widgets/controls",
          "model_name": "DescriptionStyleModel",
          "state": {
            "_view_name": "StyleView",
            "_model_name": "DescriptionStyleModel",
            "description_width": "",
            "_view_module": "@jupyter-widgets/base",
            "_model_module_version": "1.5.0",
            "_view_count": null,
            "_view_module_version": "1.2.0",
            "_model_module": "@jupyter-widgets/controls"
          }
        },
        "a2cd79433c684314a536b804b29ec075": {
          "model_module": "@jupyter-widgets/base",
          "model_name": "LayoutModel",
          "state": {
            "_view_name": "LayoutView",
            "grid_template_rows": null,
            "right": null,
            "justify_content": null,
            "_view_module": "@jupyter-widgets/base",
            "overflow": null,
            "_model_module_version": "1.2.0",
            "_view_count": null,
            "flex_flow": null,
            "width": null,
            "min_width": null,
            "border": null,
            "align_items": null,
            "bottom": null,
            "_model_module": "@jupyter-widgets/base",
            "top": null,
            "grid_column": null,
            "overflow_y": null,
            "overflow_x": null,
            "grid_auto_flow": null,
            "grid_area": null,
            "grid_template_columns": null,
            "flex": null,
            "_model_name": "LayoutModel",
            "justify_items": null,
            "grid_row": null,
            "max_height": null,
            "align_content": null,
            "visibility": null,
            "align_self": null,
            "height": null,
            "min_height": null,
            "padding": null,
            "grid_auto_rows": null,
            "grid_gap": null,
            "max_width": null,
            "order": null,
            "_view_module_version": "1.2.0",
            "grid_template_areas": null,
            "object_position": null,
            "object_fit": null,
            "grid_auto_columns": null,
            "margin": null,
            "display": null,
            "left": null
          }
        },
        "cbbe415d436645c49e0bb9a3e11228c1": {
          "model_module": "@jupyter-widgets/controls",
          "model_name": "HBoxModel",
          "state": {
            "_view_name": "HBoxView",
            "_dom_classes": [],
            "_model_name": "HBoxModel",
            "_view_module": "@jupyter-widgets/controls",
            "_model_module_version": "1.5.0",
            "_view_count": null,
            "_view_module_version": "1.5.0",
            "box_style": "",
            "layout": "IPY_MODEL_60a9f917168746e4a9259ebc0998afdb",
            "_model_module": "@jupyter-widgets/controls",
            "children": [
              "IPY_MODEL_143c1ea583524863990481dd7885899d",
              "IPY_MODEL_b59c1bb249f84755a9c778d16215d67e"
            ]
          }
        },
        "60a9f917168746e4a9259ebc0998afdb": {
          "model_module": "@jupyter-widgets/base",
          "model_name": "LayoutModel",
          "state": {
            "_view_name": "LayoutView",
            "grid_template_rows": null,
            "right": null,
            "justify_content": null,
            "_view_module": "@jupyter-widgets/base",
            "overflow": null,
            "_model_module_version": "1.2.0",
            "_view_count": null,
            "flex_flow": null,
            "width": null,
            "min_width": null,
            "border": null,
            "align_items": null,
            "bottom": null,
            "_model_module": "@jupyter-widgets/base",
            "top": null,
            "grid_column": null,
            "overflow_y": null,
            "overflow_x": null,
            "grid_auto_flow": null,
            "grid_area": null,
            "grid_template_columns": null,
            "flex": null,
            "_model_name": "LayoutModel",
            "justify_items": null,
            "grid_row": null,
            "max_height": null,
            "align_content": null,
            "visibility": null,
            "align_self": null,
            "height": null,
            "min_height": null,
            "padding": null,
            "grid_auto_rows": null,
            "grid_gap": null,
            "max_width": null,
            "order": null,
            "_view_module_version": "1.2.0",
            "grid_template_areas": null,
            "object_position": null,
            "object_fit": null,
            "grid_auto_columns": null,
            "margin": null,
            "display": null,
            "left": null
          }
        },
        "143c1ea583524863990481dd7885899d": {
          "model_module": "@jupyter-widgets/controls",
          "model_name": "FloatProgressModel",
          "state": {
            "_view_name": "ProgressView",
            "style": "IPY_MODEL_1f38c6d1863046a0b1228a6d31d1be0b",
            "_dom_classes": [],
            "description": "",
            "_model_name": "FloatProgressModel",
            "bar_style": "success",
            "max": 1,
            "_view_module": "@jupyter-widgets/controls",
            "_model_module_version": "1.5.0",
            "value": 1,
            "_view_count": null,
            "_view_module_version": "1.5.0",
            "orientation": "horizontal",
            "min": 0,
            "description_tooltip": null,
            "_model_module": "@jupyter-widgets/controls",
            "layout": "IPY_MODEL_c94c35cf25614fcbbfc130acd0cd5b65"
          }
        },
        "b59c1bb249f84755a9c778d16215d67e": {
          "model_module": "@jupyter-widgets/controls",
          "model_name": "HTMLModel",
          "state": {
            "_view_name": "HTMLView",
            "style": "IPY_MODEL_7c06e923bd4f4027bfb4d075b5f2237e",
            "_dom_classes": [],
            "description": "",
            "_model_name": "HTMLModel",
            "placeholder": "​",
            "_view_module": "@jupyter-widgets/controls",
            "_model_module_version": "1.5.0",
            "value": " 8192/? [00:00&lt;00:00, 12508.53it/s]",
            "_view_count": null,
            "_view_module_version": "1.5.0",
            "description_tooltip": null,
            "_model_module": "@jupyter-widgets/controls",
            "layout": "IPY_MODEL_014d1feb21be4c4fbd8d7ac904da5d96"
          }
        },
        "1f38c6d1863046a0b1228a6d31d1be0b": {
          "model_module": "@jupyter-widgets/controls",
          "model_name": "ProgressStyleModel",
          "state": {
            "_view_name": "StyleView",
            "_model_name": "ProgressStyleModel",
            "description_width": "initial",
            "_view_module": "@jupyter-widgets/base",
            "_model_module_version": "1.5.0",
            "_view_count": null,
            "_view_module_version": "1.2.0",
            "bar_color": null,
            "_model_module": "@jupyter-widgets/controls"
          }
        },
        "c94c35cf25614fcbbfc130acd0cd5b65": {
          "model_module": "@jupyter-widgets/base",
          "model_name": "LayoutModel",
          "state": {
            "_view_name": "LayoutView",
            "grid_template_rows": null,
            "right": null,
            "justify_content": null,
            "_view_module": "@jupyter-widgets/base",
            "overflow": null,
            "_model_module_version": "1.2.0",
            "_view_count": null,
            "flex_flow": null,
            "width": null,
            "min_width": null,
            "border": null,
            "align_items": null,
            "bottom": null,
            "_model_module": "@jupyter-widgets/base",
            "top": null,
            "grid_column": null,
            "overflow_y": null,
            "overflow_x": null,
            "grid_auto_flow": null,
            "grid_area": null,
            "grid_template_columns": null,
            "flex": null,
            "_model_name": "LayoutModel",
            "justify_items": null,
            "grid_row": null,
            "max_height": null,
            "align_content": null,
            "visibility": null,
            "align_self": null,
            "height": null,
            "min_height": null,
            "padding": null,
            "grid_auto_rows": null,
            "grid_gap": null,
            "max_width": null,
            "order": null,
            "_view_module_version": "1.2.0",
            "grid_template_areas": null,
            "object_position": null,
            "object_fit": null,
            "grid_auto_columns": null,
            "margin": null,
            "display": null,
            "left": null
          }
        },
        "7c06e923bd4f4027bfb4d075b5f2237e": {
          "model_module": "@jupyter-widgets/controls",
          "model_name": "DescriptionStyleModel",
          "state": {
            "_view_name": "StyleView",
            "_model_name": "DescriptionStyleModel",
            "description_width": "",
            "_view_module": "@jupyter-widgets/base",
            "_model_module_version": "1.5.0",
            "_view_count": null,
            "_view_module_version": "1.2.0",
            "_model_module": "@jupyter-widgets/controls"
          }
        },
        "014d1feb21be4c4fbd8d7ac904da5d96": {
          "model_module": "@jupyter-widgets/base",
          "model_name": "LayoutModel",
          "state": {
            "_view_name": "LayoutView",
            "grid_template_rows": null,
            "right": null,
            "justify_content": null,
            "_view_module": "@jupyter-widgets/base",
            "overflow": null,
            "_model_module_version": "1.2.0",
            "_view_count": null,
            "flex_flow": null,
            "width": null,
            "min_width": null,
            "border": null,
            "align_items": null,
            "bottom": null,
            "_model_module": "@jupyter-widgets/base",
            "top": null,
            "grid_column": null,
            "overflow_y": null,
            "overflow_x": null,
            "grid_auto_flow": null,
            "grid_area": null,
            "grid_template_columns": null,
            "flex": null,
            "_model_name": "LayoutModel",
            "justify_items": null,
            "grid_row": null,
            "max_height": null,
            "align_content": null,
            "visibility": null,
            "align_self": null,
            "height": null,
            "min_height": null,
            "padding": null,
            "grid_auto_rows": null,
            "grid_gap": null,
            "max_width": null,
            "order": null,
            "_view_module_version": "1.2.0",
            "grid_template_areas": null,
            "object_position": null,
            "object_fit": null,
            "grid_auto_columns": null,
            "margin": null,
            "display": null,
            "left": null
          }
        }
      }
    }
  },
  "cells": [
    {
      "cell_type": "markdown",
      "metadata": {
        "id": "view-in-github",
        "colab_type": "text"
      },
      "source": [
        "<a href=\"https://colab.research.google.com/github/Remi-Boutin/DL_project_ENSAE/blob/master/DCGAN.ipynb\" target=\"_parent\"><img src=\"https://colab.research.google.com/assets/colab-badge.svg\" alt=\"Open In Colab\"/></a>"
      ]
    },
    {
      "cell_type": "code",
      "metadata": {
        "colab_type": "code",
        "id": "LunAge52B7W0",
        "outputId": "0f93b2a7-12fe-448c-def7-ee3553160d78",
        "colab": {
          "base_uri": "https://localhost:8080/",
          "height": 173
        }
      },
      "source": [
        "pip install tensorboardX"
      ],
      "execution_count": 1,
      "outputs": [
        {
          "output_type": "stream",
          "text": [
            "Collecting tensorboardX\n",
            "\u001b[?25l  Downloading https://files.pythonhosted.org/packages/35/f1/5843425495765c8c2dd0784a851a93ef204d314fc87bcc2bbb9f662a3ad1/tensorboardX-2.0-py2.py3-none-any.whl (195kB)\n",
            "\r\u001b[K     |█▊                              | 10kB 17.6MB/s eta 0:00:01\r\u001b[K     |███▍                            | 20kB 1.8MB/s eta 0:00:01\r\u001b[K     |█████                           | 30kB 2.6MB/s eta 0:00:01\r\u001b[K     |██████▊                         | 40kB 3.4MB/s eta 0:00:01\r\u001b[K     |████████▍                       | 51kB 2.1MB/s eta 0:00:01\r\u001b[K     |██████████                      | 61kB 2.5MB/s eta 0:00:01\r\u001b[K     |███████████▊                    | 71kB 2.9MB/s eta 0:00:01\r\u001b[K     |█████████████▍                  | 81kB 3.3MB/s eta 0:00:01\r\u001b[K     |███████████████                 | 92kB 2.5MB/s eta 0:00:01\r\u001b[K     |████████████████▊               | 102kB 2.8MB/s eta 0:00:01\r\u001b[K     |██████████████████▍             | 112kB 2.8MB/s eta 0:00:01\r\u001b[K     |████████████████████            | 122kB 2.8MB/s eta 0:00:01\r\u001b[K     |█████████████████████▊          | 133kB 2.8MB/s eta 0:00:01\r\u001b[K     |███████████████████████▌        | 143kB 2.8MB/s eta 0:00:01\r\u001b[K     |█████████████████████████▏      | 153kB 2.8MB/s eta 0:00:01\r\u001b[K     |██████████████████████████▉     | 163kB 2.8MB/s eta 0:00:01\r\u001b[K     |████████████████████████████▌   | 174kB 2.8MB/s eta 0:00:01\r\u001b[K     |██████████████████████████████▏ | 184kB 2.8MB/s eta 0:00:01\r\u001b[K     |███████████████████████████████▉| 194kB 2.8MB/s eta 0:00:01\r\u001b[K     |████████████████████████████████| 204kB 2.8MB/s \n",
            "\u001b[?25hRequirement already satisfied: protobuf>=3.8.0 in /usr/local/lib/python3.6/dist-packages (from tensorboardX) (3.10.0)\n",
            "Requirement already satisfied: six in /usr/local/lib/python3.6/dist-packages (from tensorboardX) (1.12.0)\n",
            "Requirement already satisfied: numpy in /usr/local/lib/python3.6/dist-packages (from tensorboardX) (1.18.4)\n",
            "Requirement already satisfied: setuptools in /usr/local/lib/python3.6/dist-packages (from protobuf>=3.8.0->tensorboardX) (46.1.3)\n",
            "Installing collected packages: tensorboardX\n",
            "Successfully installed tensorboardX-2.0\n"
          ],
          "name": "stdout"
        }
      ]
    },
    {
      "cell_type": "code",
      "metadata": {
        "id": "dCnugpSUmtjO",
        "colab_type": "code",
        "colab": {
          "base_uri": "https://localhost:8080/",
          "height": 121
        },
        "outputId": "beff2caf-a4f0-43fa-92c6-470beb4a3789"
      },
      "source": [
        "!git clone https://github.com/Remi-Boutin/DL_project_ENSAE"
      ],
      "execution_count": 2,
      "outputs": [
        {
          "output_type": "stream",
          "text": [
            "Cloning into 'DL_project_ENSAE'...\n",
            "remote: Enumerating objects: 45, done.\u001b[K\n",
            "remote: Counting objects: 100% (45/45), done.\u001b[K\n",
            "remote: Compressing objects: 100% (39/39), done.\u001b[K\n",
            "remote: Total 45 (delta 16), reused 8 (delta 3), pack-reused 0\u001b[K\n",
            "Unpacking objects: 100% (45/45), done.\n"
          ],
          "name": "stdout"
        }
      ]
    },
    {
      "cell_type": "code",
      "metadata": {
        "id": "E1R_CB83BdOI",
        "colab_type": "code",
        "colab": {}
      },
      "source": [
        "import time\n",
        "import os\n",
        "\n",
        "try:\n",
        "    os.chdir('DL_project_ENSAE')\n",
        "except FileNotFoundError:\n",
        "    if'GANs_tools.py' not in os.listdir(os.getcwd()) :\n",
        "        print(\"YOU are not in the right folder\")\n",
        "\n",
        "if not os.path.isdir(\"Results\"):\n",
        "    os.mkdir('Results')"
      ],
      "execution_count": 0,
      "outputs": []
    },
    {
      "cell_type": "code",
      "metadata": {
        "colab_type": "code",
        "id": "Qp9dOhFcBriC",
        "colab": {}
      },
      "source": [
        "import sys\n",
        "import numpy as np\n",
        "import torch\n",
        "from torchvision.utils import save_image\n",
        "from torch import nn, optim\n",
        "from torch.nn import Sequential\n",
        "from torch.utils.data import DataLoader\n",
        "from torch import optim\n",
        "from torch.autograd.variable import Variable\n",
        "from torchvision import transforms, datasets\n",
        "import torchvision.utils as vutils\n",
        "import pickle as pkl\n",
        "from utils import Logger\n",
        "import pdb\n",
        "from utils import Logger\n",
        "import python_utils as utils\n",
        "from IPython.display import clear_output\n",
        "import GANs_tools\n",
        "import matplotlib.pyplot as plt\n",
        "import importlib\n",
        "importlib.reload(GANs_tools)\n",
        "importlib.reload(utils)\n",
        "from utils import Logger"
      ],
      "execution_count": 0,
      "outputs": []
    },
    {
      "cell_type": "code",
      "metadata": {
        "colab_type": "code",
        "id": "i6tqB5O3BriR",
        "colab": {}
      },
      "source": [
        "def images_to_vectors(images):\n",
        "    return images.view(images.size(0), 784)\n",
        "\n",
        "\n",
        "def vectors_to_images(vectors):\n",
        "    return vectors.view(vectors.size(0), 1, 28, 28)\n",
        "\n",
        "\n",
        "def mnist_data():\n",
        "    compose = transforms.Compose([transforms.ToTensor(), transforms.Normalize((0.5,), (0.5,))])\n",
        "    out_dir = ''\n",
        "    return datasets.MNIST(root=out_dir, train=True, transform=compose, download=True)"
      ],
      "execution_count": 0,
      "outputs": []
    },
    {
      "cell_type": "markdown",
      "metadata": {
        "colab_type": "text",
        "id": "Q7YHLz8qBrib"
      },
      "source": [
        "# Data"
      ]
    },
    {
      "cell_type": "code",
      "metadata": {
        "colab_type": "code",
        "id": "HdMSrctkBrib",
        "outputId": "71345962-8764-488c-f195-773d4a772b59",
        "colab": {
          "base_uri": "https://localhost:8080/",
          "height": 356,
          "referenced_widgets": [
            "7421b2e0e228436f95ddc485999bce82",
            "1dcf16f9ef4e4f0ab1636dd57c7c5808",
            "b4013560b797451d901a875657f24cf4",
            "63d75f1ca0c34ec5b7df548ef9517eb6",
            "a323d549179648b688b538d32a7aa5b6",
            "c6e016c0af8e47109c7c85559e424666",
            "e583010966304f2cb59797fb31116ee9",
            "12ce08d2eb2149209ef808eab1f4a058",
            "bd864bd42d08482192720c2b018d6fd4",
            "6bd51f4e31ab4f1fa9fec081969d68e9",
            "9321f0433c8e465589b8eecacdc5c1d9",
            "d83f10a8c894424fb6d35d9dd2a67a11",
            "c52c086b64e441d89394c64ccf4369d7",
            "06acce94b82846afaed5bdad772d7ce9",
            "90f7e186b2274d67b5de36e5032dbe8e",
            "614c283586fe4e3498b22c6d3ba26bdd",
            "e026db1e9ab34ef1a13d2ddbff1a0aa8",
            "de0e0dc02f4647a1a8995142facf018d",
            "34a442d24ad24062bb7417ad1d83728f",
            "a79885862a974e67a60d2a67ae607b71",
            "925a717de1b54b718f7000d525ed892a",
            "20cd0f5fc7124d56a5b3c190e8b857a2",
            "571febaf632a4ada8a7191f970693cab",
            "a2cd79433c684314a536b804b29ec075",
            "cbbe415d436645c49e0bb9a3e11228c1",
            "60a9f917168746e4a9259ebc0998afdb",
            "143c1ea583524863990481dd7885899d",
            "b59c1bb249f84755a9c778d16215d67e",
            "1f38c6d1863046a0b1228a6d31d1be0b",
            "c94c35cf25614fcbbfc130acd0cd5b65",
            "7c06e923bd4f4027bfb4d075b5f2237e",
            "014d1feb21be4c4fbd8d7ac904da5d96"
          ]
        }
      },
      "source": [
        "# Load data\n",
        "data = mnist_data()\n",
        "# Create loader with data, so that we can iterate over it\n",
        "data_loader = torch.utils.data.DataLoader(data, batch_size=100, shuffle=True)\n",
        "# Num batches\n",
        "num_batches = len(data_loader)"
      ],
      "execution_count": 6,
      "outputs": [
        {
          "output_type": "stream",
          "text": [
            "Downloading http://yann.lecun.com/exdb/mnist/train-images-idx3-ubyte.gz to MNIST/raw/train-images-idx3-ubyte.gz\n"
          ],
          "name": "stdout"
        },
        {
          "output_type": "display_data",
          "data": {
            "application/vnd.jupyter.widget-view+json": {
              "model_id": "7421b2e0e228436f95ddc485999bce82",
              "version_minor": 0,
              "version_major": 2
            },
            "text/plain": [
              "HBox(children=(FloatProgress(value=1.0, bar_style='info', max=1.0), HTML(value='')))"
            ]
          },
          "metadata": {
            "tags": []
          }
        },
        {
          "output_type": "stream",
          "text": [
            "Extracting MNIST/raw/train-images-idx3-ubyte.gz to MNIST/raw\n",
            "Downloading http://yann.lecun.com/exdb/mnist/train-labels-idx1-ubyte.gz to MNIST/raw/train-labels-idx1-ubyte.gz\n"
          ],
          "name": "stdout"
        },
        {
          "output_type": "display_data",
          "data": {
            "application/vnd.jupyter.widget-view+json": {
              "model_id": "bd864bd42d08482192720c2b018d6fd4",
              "version_minor": 0,
              "version_major": 2
            },
            "text/plain": [
              "HBox(children=(FloatProgress(value=1.0, bar_style='info', max=1.0), HTML(value='')))"
            ]
          },
          "metadata": {
            "tags": []
          }
        },
        {
          "output_type": "stream",
          "text": [
            "Extracting MNIST/raw/train-labels-idx1-ubyte.gz to MNIST/raw\n",
            "Downloading http://yann.lecun.com/exdb/mnist/t10k-images-idx3-ubyte.gz to MNIST/raw/t10k-images-idx3-ubyte.gz\n"
          ],
          "name": "stdout"
        },
        {
          "output_type": "display_data",
          "data": {
            "application/vnd.jupyter.widget-view+json": {
              "model_id": "e026db1e9ab34ef1a13d2ddbff1a0aa8",
              "version_minor": 0,
              "version_major": 2
            },
            "text/plain": [
              "HBox(children=(FloatProgress(value=1.0, bar_style='info', max=1.0), HTML(value='')))"
            ]
          },
          "metadata": {
            "tags": []
          }
        },
        {
          "output_type": "stream",
          "text": [
            "Extracting MNIST/raw/t10k-images-idx3-ubyte.gz to MNIST/raw\n",
            "Downloading http://yann.lecun.com/exdb/mnist/t10k-labels-idx1-ubyte.gz to MNIST/raw/t10k-labels-idx1-ubyte.gz\n"
          ],
          "name": "stdout"
        },
        {
          "output_type": "display_data",
          "data": {
            "application/vnd.jupyter.widget-view+json": {
              "model_id": "cbbe415d436645c49e0bb9a3e11228c1",
              "version_minor": 0,
              "version_major": 2
            },
            "text/plain": [
              "HBox(children=(FloatProgress(value=1.0, bar_style='info', max=1.0), HTML(value='')))"
            ]
          },
          "metadata": {
            "tags": []
          }
        },
        {
          "output_type": "stream",
          "text": [
            "Extracting MNIST/raw/t10k-labels-idx1-ubyte.gz to MNIST/raw\n",
            "Processing...\n",
            "Done!\n"
          ],
          "name": "stdout"
        },
        {
          "output_type": "stream",
          "text": [
            "/pytorch/torch/csrc/utils/tensor_numpy.cpp:141: UserWarning: The given NumPy array is not writeable, and PyTorch does not support non-writeable tensors. This means you can write to the underlying (supposedly non-writeable) NumPy array using the tensor. You may want to copy the array to protect its data or make it writeable before converting it to a tensor. This type of warning will be suppressed for the rest of this program.\n"
          ],
          "name": "stderr"
        }
      ]
    },
    {
      "cell_type": "markdown",
      "metadata": {
        "colab_type": "text",
        "id": "aowudRVxBrii"
      },
      "source": [
        "# Discriminator"
      ]
    },
    {
      "cell_type": "markdown",
      "metadata": {
        "colab_type": "text",
        "id": "ftx5a-2TBrik"
      },
      "source": [
        "**Reminder :**\n",
        " - stride = enjambée = de combien on fait glisser le kernel à chaque calcul\n",
        " - padding = rembourage = combien de 1 rajoute-t-on sur les bords de l'image pour combler"
      ]
    },
    {
      "cell_type": "code",
      "metadata": {
        "colab_type": "code",
        "id": "k2RNPNj2Bril",
        "colab": {
          "base_uri": "https://localhost:8080/",
          "height": 52
        },
        "outputId": "9d3863e6-1145-45bd-8453-94e91018bef2"
      },
      "source": [
        "class Discriminator(nn.Module):\n",
        "    def __init__(self, input_shape=1):\n",
        "        super(Discriminator, self).__init__()\n",
        "        self.conv1 = Sequential(nn.Conv2d(in_channels=1, out_channels=16, stride=2,\n",
        "                                          padding=1, kernel_size=5),\n",
        "                                nn.LeakyReLU(0.1),\n",
        "                                nn.BatchNorm2d(16))\n",
        "\n",
        "        self.conv2 = Sequential(nn.Conv2d(in_channels=16, out_channels=16, stride=2, padding=1,\n",
        "                                          kernel_size=5),\n",
        "                                nn.LeakyReLU(0.1),\n",
        "                                nn.BatchNorm2d(16))\n",
        "\n",
        "        self.hidden = nn.Sequential(torch.nn.Flatten(),\n",
        "                                    nn.Linear(576, 256),\n",
        "                                    nn.Sigmoid())\n",
        "\n",
        "        self.out = nn.Sequential(nn.Linear(256, 1),\n",
        "                                 nn.Sigmoid())\n",
        "\n",
        "    def preprocess(self, x):\n",
        "        return x.view(-1, 1, 28, 28)\n",
        "\n",
        "    def forward(self, x):\n",
        "        x = self.preprocess(x)\n",
        "        x = self.conv1(x)\n",
        "        x = self.conv2(x)\n",
        "        # x = self.conv3(x)\n",
        "        # x = self.conv4(x)\n",
        "        x = self.hidden(x)\n",
        "        x = self.out(x)\n",
        "        return x"
      ],
      "execution_count": 7,
      "outputs": [
        {
          "output_type": "stream",
          "text": [
            "\n",
            "\n"
          ],
          "name": "stdout"
        }
      ]
    },
    {
      "cell_type": "code",
      "metadata": {
        "colab_type": "code",
        "id": "lGofDLllBriq",
        "colab": {}
      },
      "source": [
        "class Generator(nn.Module):\n",
        "    def __init__(self, img_size=28, latent_dim=100, channels=1):\n",
        "        super(Generator, self).__init__()\n",
        "        self.img_size = img_size\n",
        "        self.latent_dim = latent_dim\n",
        "        self.channels = channels\n",
        "        self.init_size = self.img_size // 4\n",
        "        self.l1 = nn.Sequential(nn.Linear(self.latent_dim, 128 * self.init_size ** 2))\n",
        "\n",
        "        self.conv_blocks = nn.Sequential(\n",
        "            nn.BatchNorm2d(128),\n",
        "            nn.Upsample(scale_factor=2),\n",
        "            nn.Conv2d(128, 128, 3, stride=1, padding=1),\n",
        "            nn.BatchNorm2d(128, 0.8),\n",
        "            nn.LeakyReLU(0.2, inplace=True),\n",
        "            nn.Upsample(scale_factor=2),\n",
        "            nn.Conv2d(128, 64, 3, stride=1, padding=1),\n",
        "            nn.BatchNorm2d(64, 0.8),\n",
        "            nn.LeakyReLU(0.2, inplace=True),\n",
        "            nn.Conv2d(64, channels, 3, stride=1, padding=1),\n",
        "            nn.Tanh())\n",
        "\n",
        "    def forward(self, z):\n",
        "        out = self.l1(z)\n",
        "        out = out.view(out.shape[0], 128, self.init_size, self.init_size)\n",
        "        img = self.conv_blocks(out)\n",
        "        return img\n"
      ],
      "execution_count": 0,
      "outputs": []
    },
    {
      "cell_type": "code",
      "metadata": {
        "colab_type": "code",
        "id": "R-qo9ToYBriw",
        "colab": {}
      },
      "source": [
        "discriminator = Discriminator()\n",
        "generator = Generator()\n",
        "if torch.cuda.is_available():\n",
        "    discriminator.cuda()\n",
        "    generator.cuda()\n",
        "\n",
        "# custom weights initialization called on netG and netD\n",
        "def weights_init(m):\n",
        "    classname = m.__class__.__name__\n",
        "    if classname.find('Conv') != -1:\n",
        "        m.weight.data.normal_(0.0, 0.02)\n",
        "    elif classname.find('BatchNorm') != -1:\n",
        "        m.weight.data.normal_(1.0, 0.02)\n",
        "        m.bias.data.fill_(0)\n",
        "\n",
        "discriminator.apply(weights_init)\n",
        "generator.apply(weights_init)\n",
        "\n",
        "dtype = torch.FloatTensor\n",
        "dtype = torch.cuda.FloatTensor # Uncomment this to run on GPU\n",
        "\n",
        "d_optimizer = optim.Adam(discriminator.parameters(), lr=2e-3)\n",
        "g_optimizer = optim.Adam(generator.parameters(), lr=2e-3)\n",
        "loss = nn.BCELoss().cuda()"
      ],
      "execution_count": 0,
      "outputs": []
    },
    {
      "cell_type": "code",
      "metadata": {
        "colab_type": "code",
        "id": "xqmf04o0Bri0",
        "colab": {}
      },
      "source": [
        "num_test_samples = 16\n",
        "num_epochs = 1\n",
        "logger = Logger(model_name='VGAN', data_name='MNIST')"
      ],
      "execution_count": 0,
      "outputs": []
    },
    {
      "cell_type": "code",
      "metadata": {
        "id": "HsL0ntMzBdO_",
        "colab_type": "code",
        "colab": {}
      },
      "source": [
        "def fit(num_epochs, data_loader, netG, netD, WGAN_training=True, lower_clamp=-0.05, upper_clamp=0.05):\n",
        "    if WGAN_training:\n",
        "        if not os.path.isdir('./Results/images'):\n",
        "            os.mkdir('./Results/images')\n",
        "    for epoch in range(num_epochs):\n",
        "        for n_batch, (real_batch, _) in enumerate(data_loader):\n",
        "\n",
        "            # 1. Train Discriminator\n",
        "            #Initialization of gradients\n",
        "            for p in netD.parameters(): # reset requires_grad\n",
        "                p.requires_grad = True # they are set to False below in netG update\n",
        "            netD.zero_grad()\n",
        "            \n",
        "            if WGAN_training:\n",
        "                # Set the parameters in a cube to respect the Lipsichitz condition necessary to the gradient computation\n",
        "                for p in netD.parameters():\n",
        "                        p.data.clamp_(lower_clamp, upper_clamp)\n",
        "                    \n",
        "            # Generate fake data and noise\n",
        "            real_data = Variable(images_to_vectors(real_batch)).type(dtype)  \n",
        "            noise_vector = GANs_tools.noise(real_data.size(0), dtype)\n",
        "            fake_data = netG(noise_vector).detach().type(dtype)\n",
        "\n",
        "            # Train the Discriminator\n",
        "            if WGAN_training:\n",
        "                d_pred_real, d_pred_fake = GANs_tools.train_discriminator(d_optimizer,\n",
        "                                                                                   netD, loss,\n",
        "                                                                                   real_data, fake_data, dtype,\n",
        "                                                                                   WGAN_training)\n",
        "                error_D= d_pred_real - d_pred_fake\n",
        "            \n",
        "            else:\n",
        "                d_error, d_pred_real, d_pred_fake = GANs_tools.train_discriminator(d_optimizer,\n",
        "                                                                                   netD, loss,\n",
        "                                                                                   real_data, fake_data, dtype,\n",
        "                                                                                   WGAN_training)\n",
        "\n",
        "            # 2. Train Generator\n",
        "            \n",
        "            #Turn off discriminator gradients traceback\n",
        "            for p in netD.parameters():\n",
        "                p.requires_grad = False # to avoid computation\n",
        "            netG.zero_grad() # Initialization of generator gradients\n",
        "            \n",
        "            \n",
        "            # Generate fake data\n",
        "            generated_data = netG(GANs_tools.noise(real_batch.size(0), dtype))\n",
        "            # Train Generator\n",
        "            if WGAN_training:\n",
        "                error_G = GANs_tools.train_generator(g_optimizer, netD, loss, generated_data, dtype,WGAN_training)\n",
        "                \n",
        "            else:\n",
        "                g_error = GANs_tools.train_generator(g_optimizer, netD, loss, fake_data, dtype,WGAN_training)\n",
        "            \n",
        "            # Log error\n",
        "            if WGAN_training:\n",
        "                if (n_batch) % 100 == 0:\n",
        "                    test_noise = GANs_tools.noise(num_test_samples, dtype)\n",
        "                    print('[%d/%d][%d/%d] Loss_D: %f Loss_G: %f Loss_D_real: %f Loss_D_fake %f'\n",
        "                          % (epoch, num_epochs, n_batch, len(data_loader), \n",
        "                             error_D.data[0], error_G.data[0], d_pred_real.data[0], d_pred_fake.data[0]))\n",
        "                    real_cpu = real_batch.mul(0.5).add(0.5)            \n",
        "                    vutils.save_image(real_cpu, './Results/images/real_samples_epoch{}.png'.format(epoch))\n",
        "                    fake = netG(test_noise)\n",
        "                    fake.data = fake.data.mul(0.5).add(0.5)\n",
        "                    vutils.save_image(fake.data, './Results/images/fake_epoch{}.png'.format(epoch))\n",
        "            else:\n",
        "                logger.log(d_error, g_error, epoch, n_batch, num_batches)\n",
        "\n",
        "                    # Display Progress\n",
        "                if (n_batch) % 100 == 0:\n",
        "                    clear_output(True)\n",
        "                    # Display Images\n",
        "                    test_noise = GANs_tools.noise(num_test_samples, dtype)\n",
        "                    test_images = vectors_to_images(netG(test_noise)).data.cpu()\n",
        "                    logger.log_images(test_images, num_test_samples, epoch, n_batch, num_batches)\n",
        "                    # Display status Logs\n",
        "                    logger.display_status(\n",
        "                        epoch, num_epochs, n_batch, num_batches,\n",
        "                        d_error, g_error, d_pred_real, d_pred_fake\n",
        "                    )\n",
        "                # Model Checkpoints\n",
        "                logger.save_models(netG, netD, epoch)"
      ],
      "execution_count": 0,
      "outputs": []
    },
    {
      "cell_type": "code",
      "metadata": {
        "id": "Ei9BK1RRBdPF",
        "colab_type": "code",
        "colab": {}
      },
      "source": [
        "importlib.reload(GANs_tools)\n",
        "importlib.reload(utils)\n",
        "from utils import Logger"
      ],
      "execution_count": 0,
      "outputs": []
    },
    {
      "cell_type": "code",
      "metadata": {
        "scrolled": true,
        "id": "DHdInAxjBdPJ",
        "colab_type": "code",
        "outputId": "b3b82c5a-0669-4600-c0bc-9cb0844396ed",
        "colab": {
          "base_uri": "https://localhost:8080/",
          "height": 1000
        }
      },
      "source": [
        "fit(10, data_loader, generator, discriminator, WGAN_training=True, lower_clamp=-0.01, upper_clamp=0.01)"
      ],
      "execution_count": 15,
      "outputs": [
        {
          "output_type": "stream",
          "text": [
            "[0/10][0/600] Loss_D: -0.000964 Loss_G: 0.528393 Loss_D_real: 0.527693 Loss_D_fake 0.528656\n",
            "[0/10][100/600] Loss_D: -0.001425 Loss_G: 0.528588 Loss_D_real: 0.527322 Loss_D_fake 0.528748\n",
            "[0/10][200/600] Loss_D: -0.001166 Loss_G: 0.528715 Loss_D_real: 0.526901 Loss_D_fake 0.528068\n",
            "[0/10][300/600] Loss_D: -0.001364 Loss_G: 0.527883 Loss_D_real: 0.527226 Loss_D_fake 0.528590\n",
            "[0/10][400/600] Loss_D: -0.000441 Loss_G: 0.528284 Loss_D_real: 0.527513 Loss_D_fake 0.527953\n",
            "[0/10][500/600] Loss_D: -0.000674 Loss_G: 0.528430 Loss_D_real: 0.527904 Loss_D_fake 0.528578\n",
            "[1/10][0/600] Loss_D: -0.000836 Loss_G: 0.527938 Loss_D_real: 0.527732 Loss_D_fake 0.528568\n",
            "[1/10][100/600] Loss_D: -0.000119 Loss_G: 0.528187 Loss_D_real: 0.528043 Loss_D_fake 0.528162\n",
            "[1/10][200/600] Loss_D: -0.000315 Loss_G: 0.528129 Loss_D_real: 0.527885 Loss_D_fake 0.528200\n",
            "[1/10][300/600] Loss_D: -0.000030 Loss_G: 0.528232 Loss_D_real: 0.527357 Loss_D_fake 0.527388\n",
            "[1/10][400/600] Loss_D: -0.000805 Loss_G: 0.527527 Loss_D_real: 0.527069 Loss_D_fake 0.527875\n",
            "[1/10][500/600] Loss_D: -0.000340 Loss_G: 0.527666 Loss_D_real: 0.527636 Loss_D_fake 0.527976\n",
            "[2/10][0/600] Loss_D: -0.000155 Loss_G: 0.527967 Loss_D_real: 0.527738 Loss_D_fake 0.527893\n",
            "[2/10][100/600] Loss_D: -0.000787 Loss_G: 0.527466 Loss_D_real: 0.526583 Loss_D_fake 0.527370\n",
            "[2/10][200/600] Loss_D: -0.000545 Loss_G: 0.527740 Loss_D_real: 0.526894 Loss_D_fake 0.527439\n",
            "[2/10][300/600] Loss_D: -0.000824 Loss_G: 0.526722 Loss_D_real: 0.526941 Loss_D_fake 0.527766\n",
            "[2/10][400/600] Loss_D: -0.000512 Loss_G: 0.526728 Loss_D_real: 0.526914 Loss_D_fake 0.527426\n",
            "[2/10][500/600] Loss_D: -0.000029 Loss_G: 0.527762 Loss_D_real: 0.527770 Loss_D_fake 0.527799\n",
            "[3/10][0/600] Loss_D: -0.000701 Loss_G: 0.527876 Loss_D_real: 0.526353 Loss_D_fake 0.527054\n",
            "[3/10][100/600] Loss_D: -0.000667 Loss_G: 0.527517 Loss_D_real: 0.526778 Loss_D_fake 0.527445\n",
            "[3/10][200/600] Loss_D: -0.000815 Loss_G: 0.527133 Loss_D_real: 0.526344 Loss_D_fake 0.527159\n",
            "[3/10][300/600] Loss_D: -0.000334 Loss_G: 0.525786 Loss_D_real: 0.526208 Loss_D_fake 0.526541\n",
            "[3/10][400/600] Loss_D: -0.000289 Loss_G: 0.527118 Loss_D_real: 0.527810 Loss_D_fake 0.528100\n",
            "[3/10][500/600] Loss_D: -0.000209 Loss_G: 0.527640 Loss_D_real: 0.526899 Loss_D_fake 0.527108\n",
            "[4/10][0/600] Loss_D: -0.000758 Loss_G: 0.526278 Loss_D_real: 0.525949 Loss_D_fake 0.526707\n",
            "[4/10][100/600] Loss_D: -0.000609 Loss_G: 0.527429 Loss_D_real: 0.526810 Loss_D_fake 0.527419\n",
            "[4/10][200/600] Loss_D: -0.000336 Loss_G: 0.527384 Loss_D_real: 0.526651 Loss_D_fake 0.526986\n",
            "[4/10][300/600] Loss_D: -0.000570 Loss_G: 0.527191 Loss_D_real: 0.526319 Loss_D_fake 0.526889\n",
            "[4/10][400/600] Loss_D: -0.000662 Loss_G: 0.527555 Loss_D_real: 0.526579 Loss_D_fake 0.527241\n",
            "[4/10][500/600] Loss_D: -0.000661 Loss_G: 0.527201 Loss_D_real: 0.526768 Loss_D_fake 0.527429\n",
            "[5/10][0/600] Loss_D: 0.000095 Loss_G: 0.526581 Loss_D_real: 0.526645 Loss_D_fake 0.526550\n",
            "[5/10][100/600] Loss_D: -0.000200 Loss_G: 0.526899 Loss_D_real: 0.526603 Loss_D_fake 0.526802\n",
            "[5/10][200/600] Loss_D: -0.000194 Loss_G: 0.527741 Loss_D_real: 0.527040 Loss_D_fake 0.527234\n",
            "[5/10][300/600] Loss_D: -0.000776 Loss_G: 0.526118 Loss_D_real: 0.525582 Loss_D_fake 0.526358\n",
            "[5/10][400/600] Loss_D: -0.000231 Loss_G: 0.527647 Loss_D_real: 0.526649 Loss_D_fake 0.526880\n",
            "[5/10][500/600] Loss_D: -0.001266 Loss_G: 0.527659 Loss_D_real: 0.526850 Loss_D_fake 0.528116\n",
            "[6/10][0/600] Loss_D: -0.000227 Loss_G: 0.527085 Loss_D_real: 0.526461 Loss_D_fake 0.526688\n",
            "[6/10][100/600] Loss_D: -0.000140 Loss_G: 0.527555 Loss_D_real: 0.527364 Loss_D_fake 0.527503\n",
            "[6/10][200/600] Loss_D: -0.000573 Loss_G: 0.526643 Loss_D_real: 0.526562 Loss_D_fake 0.527134\n",
            "[6/10][300/600] Loss_D: -0.000447 Loss_G: 0.526447 Loss_D_real: 0.526219 Loss_D_fake 0.526666\n",
            "[6/10][400/600] Loss_D: -0.000668 Loss_G: 0.527025 Loss_D_real: 0.526785 Loss_D_fake 0.527452\n",
            "[6/10][500/600] Loss_D: -0.000116 Loss_G: 0.527310 Loss_D_real: 0.526611 Loss_D_fake 0.526727\n",
            "[7/10][0/600] Loss_D: -0.001479 Loss_G: 0.527120 Loss_D_real: 0.526679 Loss_D_fake 0.528158\n",
            "[7/10][100/600] Loss_D: -0.000797 Loss_G: 0.527278 Loss_D_real: 0.526604 Loss_D_fake 0.527401\n",
            "[7/10][200/600] Loss_D: -0.001241 Loss_G: 0.527229 Loss_D_real: 0.526524 Loss_D_fake 0.527765\n",
            "[7/10][300/600] Loss_D: -0.000593 Loss_G: 0.526910 Loss_D_real: 0.526424 Loss_D_fake 0.527016\n",
            "[7/10][400/600] Loss_D: -0.000853 Loss_G: 0.527339 Loss_D_real: 0.526333 Loss_D_fake 0.527187\n",
            "[7/10][500/600] Loss_D: -0.000871 Loss_G: 0.527278 Loss_D_real: 0.526679 Loss_D_fake 0.527550\n",
            "[8/10][0/600] Loss_D: -0.001021 Loss_G: 0.528009 Loss_D_real: 0.526874 Loss_D_fake 0.527895\n",
            "[8/10][100/600] Loss_D: -0.000440 Loss_G: 0.527548 Loss_D_real: 0.526544 Loss_D_fake 0.526985\n",
            "[8/10][200/600] Loss_D: -0.000677 Loss_G: 0.526613 Loss_D_real: 0.526885 Loss_D_fake 0.527562\n",
            "[8/10][300/600] Loss_D: -0.000460 Loss_G: 0.527447 Loss_D_real: 0.526984 Loss_D_fake 0.527444\n",
            "[8/10][400/600] Loss_D: -0.000532 Loss_G: 0.527817 Loss_D_real: 0.527203 Loss_D_fake 0.527735\n",
            "[8/10][500/600] Loss_D: -0.000287 Loss_G: 0.526980 Loss_D_real: 0.526278 Loss_D_fake 0.526565\n",
            "[9/10][0/600] Loss_D: -0.000772 Loss_G: 0.527736 Loss_D_real: 0.526761 Loss_D_fake 0.527533\n",
            "[9/10][100/600] Loss_D: -0.000841 Loss_G: 0.526569 Loss_D_real: 0.525737 Loss_D_fake 0.526578\n",
            "[9/10][200/600] Loss_D: -0.000275 Loss_G: 0.527635 Loss_D_real: 0.527099 Loss_D_fake 0.527374\n",
            "[9/10][300/600] Loss_D: -0.000288 Loss_G: 0.527263 Loss_D_real: 0.527564 Loss_D_fake 0.527852\n",
            "[9/10][400/600] Loss_D: -0.000187 Loss_G: 0.527625 Loss_D_real: 0.527574 Loss_D_fake 0.527760\n",
            "[9/10][500/600] Loss_D: -0.000467 Loss_G: 0.526473 Loss_D_real: 0.526403 Loss_D_fake 0.526869\n"
          ],
          "name": "stdout"
        }
      ]
    },
    {
      "cell_type": "code",
      "metadata": {
        "id": "Td9FNeXwnDRG",
        "colab_type": "code",
        "colab": {}
      },
      "source": [
        "def fit_bis(num_epochs, data_loader, netG, netD, n_critic=5, sample_interval=400, WGAN_training=True, lower_clamp=-0.05, upper_clamp=0.05):\n",
        "    if WGAN_training:\n",
        "        if not os.path.isdir('./Results/images'):\n",
        "            os.mkdir('./Results/images')\n",
        "    batches_done = 0\n",
        "    for epoch in range(num_epochs):\n",
        "        for i, (imgs, _)  in enumerate(data_loader):\n",
        "          z = GANs_tools.noise(imgs.shape[0], dtype)\n",
        "          # Generate a batch of images\n",
        "          real_imgs = Variable(imgs.type(dtype))\n",
        "          generated_imgs = netG(z).detach().type(dtype)\n",
        "          # Adversarial loss\n",
        "          loss_D = -torch.mean(netD(real_imgs)) + torch.mean(netD(generated_imgs))\n",
        "          loss_D.backward()\n",
        "          d_optimizer.step()\n",
        "\n",
        "          # Clip weights of discriminator\n",
        "          for p in netD.parameters():\n",
        "              p.data.clamp_(lower_clamp, upper_clamp)\n",
        "\n",
        "          # Train the generator every n_critic iterations\n",
        "          if i % n_critic == 0:\n",
        "\n",
        "              # -----------------\n",
        "              #  Train Generator\n",
        "              # -----------------\n",
        "\n",
        "              g_optimizer.zero_grad()\n",
        "\n",
        "              # Generate a batch of images\n",
        "              gen_imgs = generator(z)\n",
        "              # Adversarial loss\n",
        "              loss_G = -torch.mean(discriminator(gen_imgs))\n",
        "\n",
        "              loss_G.backward()\n",
        "              g_optimizer.step()\n",
        "\n",
        "             \n",
        "\n",
        "          if batches_done % sample_interval == 0:\n",
        "            print(\n",
        "                  \"[Epoch %d/%d] [Batch %d/%d] [D loss: %f] [G loss: %f]\"\n",
        "                  % (epoch, num_epochs, batches_done % len(data_loader), len(data_loader), loss_D.item(), loss_G.item())\n",
        "              )\n",
        "            save_image(gen_imgs.data[:25], \"images/%d.png\" % batches_done, nrow=5, normalize=True)\n",
        "          batches_done += 1\n",
        "\n",
        "\n"
      ],
      "execution_count": 0,
      "outputs": []
    },
    {
      "cell_type": "code",
      "metadata": {
        "id": "WekuJIZFtOdh",
        "colab_type": "code",
        "colab": {
          "base_uri": "https://localhost:8080/",
          "height": 1000
        },
        "outputId": "c00abb0a-e912-416f-f0db-b91424d9e162"
      },
      "source": [
        "fit_bis(50, data_loader, generator, discriminator, WGAN_training=True, lower_clamp=-0.01, upper_clamp=0.01)"
      ],
      "execution_count": 63,
      "outputs": [
        {
          "output_type": "stream",
          "text": [
            "[Epoch 0/50] [Batch 0/600] [D loss: 0.000018] [G loss: -0.785837]\n",
            "[Epoch 0/50] [Batch 400/600] [D loss: -0.000078] [G loss: -0.788298]\n",
            "[Epoch 1/50] [Batch 200/600] [D loss: 0.000020] [G loss: -0.789673]\n",
            "[Epoch 2/50] [Batch 0/600] [D loss: -0.000196] [G loss: -0.790481]\n",
            "[Epoch 2/50] [Batch 400/600] [D loss: -0.000400] [G loss: -0.790462]\n",
            "[Epoch 3/50] [Batch 200/600] [D loss: -0.000339] [G loss: -0.790644]\n",
            "[Epoch 4/50] [Batch 0/600] [D loss: -0.000120] [G loss: -0.790931]\n",
            "[Epoch 4/50] [Batch 400/600] [D loss: -0.000046] [G loss: -0.791406]\n",
            "[Epoch 5/50] [Batch 200/600] [D loss: 0.000026] [G loss: -0.791447]\n",
            "[Epoch 6/50] [Batch 0/600] [D loss: -0.000026] [G loss: -0.791385]\n",
            "[Epoch 6/50] [Batch 400/600] [D loss: -0.000035] [G loss: -0.791441]\n",
            "[Epoch 7/50] [Batch 200/600] [D loss: 0.000041] [G loss: -0.791394]\n",
            "[Epoch 8/50] [Batch 0/600] [D loss: -0.000012] [G loss: -0.791486]\n",
            "[Epoch 8/50] [Batch 400/600] [D loss: 0.000057] [G loss: -0.791673]\n",
            "[Epoch 9/50] [Batch 200/600] [D loss: -0.000050] [G loss: -0.791348]\n",
            "[Epoch 10/50] [Batch 0/600] [D loss: -0.000001] [G loss: -0.791515]\n",
            "[Epoch 10/50] [Batch 400/600] [D loss: -0.000067] [G loss: -0.791543]\n",
            "[Epoch 11/50] [Batch 200/600] [D loss: -0.000113] [G loss: -0.791219]\n",
            "[Epoch 12/50] [Batch 0/600] [D loss: 0.000027] [G loss: -0.791663]\n",
            "[Epoch 12/50] [Batch 400/600] [D loss: -0.000085] [G loss: -0.791441]\n",
            "[Epoch 13/50] [Batch 200/600] [D loss: 0.000033] [G loss: -0.791622]\n",
            "[Epoch 14/50] [Batch 0/600] [D loss: 0.000089] [G loss: -0.791745]\n",
            "[Epoch 14/50] [Batch 400/600] [D loss: -0.000176] [G loss: -0.791124]\n",
            "[Epoch 15/50] [Batch 200/600] [D loss: 0.000011] [G loss: -0.791662]\n",
            "[Epoch 16/50] [Batch 0/600] [D loss: -0.000075] [G loss: -0.791462]\n",
            "[Epoch 16/50] [Batch 400/600] [D loss: 0.000021] [G loss: -0.791693]\n",
            "[Epoch 17/50] [Batch 200/600] [D loss: -0.000017] [G loss: -0.791571]\n",
            "[Epoch 18/50] [Batch 0/600] [D loss: -0.000014] [G loss: -0.791603]\n",
            "[Epoch 18/50] [Batch 400/600] [D loss: 0.000022] [G loss: -0.791665]\n",
            "[Epoch 19/50] [Batch 200/600] [D loss: 0.000031] [G loss: -0.791673]\n",
            "[Epoch 20/50] [Batch 0/600] [D loss: 0.000057] [G loss: -0.791748]\n",
            "[Epoch 20/50] [Batch 400/600] [D loss: 0.000025] [G loss: -0.791738]\n",
            "[Epoch 21/50] [Batch 200/600] [D loss: 0.000052] [G loss: -0.791741]\n",
            "[Epoch 22/50] [Batch 0/600] [D loss: 0.000021] [G loss: -0.791694]\n",
            "[Epoch 22/50] [Batch 400/600] [D loss: -0.000011] [G loss: -0.791683]\n",
            "[Epoch 23/50] [Batch 200/600] [D loss: 0.000018] [G loss: -0.791736]\n",
            "[Epoch 24/50] [Batch 0/600] [D loss: 0.000045] [G loss: -0.791771]\n",
            "[Epoch 24/50] [Batch 400/600] [D loss: 0.000112] [G loss: -0.791757]\n",
            "[Epoch 25/50] [Batch 200/600] [D loss: 0.000058] [G loss: -0.791817]\n",
            "[Epoch 26/50] [Batch 0/600] [D loss: 0.000021] [G loss: -0.791788]\n",
            "[Epoch 26/50] [Batch 400/600] [D loss: 0.000036] [G loss: -0.791801]\n",
            "[Epoch 27/50] [Batch 200/600] [D loss: -0.000010] [G loss: -0.791722]\n",
            "[Epoch 28/50] [Batch 0/600] [D loss: 0.000018] [G loss: -0.791768]\n",
            "[Epoch 28/50] [Batch 400/600] [D loss: 0.000093] [G loss: -0.791856]\n",
            "[Epoch 29/50] [Batch 200/600] [D loss: 0.000005] [G loss: -0.791760]\n",
            "[Epoch 30/50] [Batch 0/600] [D loss: 0.000067] [G loss: -0.791814]\n",
            "[Epoch 30/50] [Batch 400/600] [D loss: -0.000025] [G loss: -0.791721]\n",
            "[Epoch 31/50] [Batch 200/600] [D loss: 0.000031] [G loss: -0.791790]\n",
            "[Epoch 32/50] [Batch 0/600] [D loss: 0.000060] [G loss: -0.791787]\n",
            "[Epoch 32/50] [Batch 400/600] [D loss: 0.000039] [G loss: -0.791785]\n",
            "[Epoch 33/50] [Batch 200/600] [D loss: 0.000026] [G loss: -0.791775]\n",
            "[Epoch 34/50] [Batch 0/600] [D loss: 0.000023] [G loss: -0.791784]\n",
            "[Epoch 34/50] [Batch 400/600] [D loss: 0.000030] [G loss: -0.791798]\n",
            "[Epoch 35/50] [Batch 200/600] [D loss: 0.000025] [G loss: -0.791750]\n",
            "[Epoch 36/50] [Batch 0/600] [D loss: 0.000042] [G loss: -0.791786]\n",
            "[Epoch 36/50] [Batch 400/600] [D loss: 0.000019] [G loss: -0.791743]\n",
            "[Epoch 37/50] [Batch 200/600] [D loss: 0.000052] [G loss: -0.791837]\n",
            "[Epoch 38/50] [Batch 0/600] [D loss: 0.000001] [G loss: -0.791680]\n",
            "[Epoch 38/50] [Batch 400/600] [D loss: 0.000038] [G loss: -0.791749]\n",
            "[Epoch 39/50] [Batch 200/600] [D loss: 0.000011] [G loss: -0.791760]\n",
            "[Epoch 40/50] [Batch 0/600] [D loss: 0.000009] [G loss: -0.791724]\n",
            "[Epoch 40/50] [Batch 400/600] [D loss: 0.000029] [G loss: -0.791791]\n",
            "[Epoch 41/50] [Batch 200/600] [D loss: 0.000022] [G loss: -0.791777]\n",
            "[Epoch 42/50] [Batch 0/600] [D loss: 0.000026] [G loss: -0.791788]\n",
            "[Epoch 42/50] [Batch 400/600] [D loss: 0.000020] [G loss: -0.791768]\n",
            "[Epoch 43/50] [Batch 200/600] [D loss: 0.000015] [G loss: -0.791748]\n",
            "[Epoch 44/50] [Batch 0/600] [D loss: 0.000013] [G loss: -0.791758]\n",
            "[Epoch 44/50] [Batch 400/600] [D loss: 0.000009] [G loss: -0.791755]\n",
            "[Epoch 45/50] [Batch 200/600] [D loss: 0.000024] [G loss: -0.791770]\n",
            "[Epoch 46/50] [Batch 0/600] [D loss: 0.000024] [G loss: -0.791778]\n",
            "[Epoch 46/50] [Batch 400/600] [D loss: 0.000013] [G loss: -0.791746]\n",
            "[Epoch 47/50] [Batch 200/600] [D loss: 0.000023] [G loss: -0.791756]\n",
            "[Epoch 48/50] [Batch 0/600] [D loss: 0.000014] [G loss: -0.791738]\n",
            "[Epoch 48/50] [Batch 400/600] [D loss: 0.000014] [G loss: -0.791754]\n",
            "[Epoch 49/50] [Batch 200/600] [D loss: 0.000018] [G loss: -0.791770]\n"
          ],
          "name": "stdout"
        }
      ]
    },
    {
      "cell_type": "code",
      "metadata": {
        "id": "mz5oL-YvtT8M",
        "colab_type": "code",
        "colab": {
          "base_uri": "https://localhost:8080/",
          "height": 34
        },
        "outputId": "7064573d-c4ab-4098-bc3d-9db571de8be9"
      },
      "source": [
        "pwd\n"
      ],
      "execution_count": 53,
      "outputs": [
        {
          "output_type": "execute_result",
          "data": {
            "text/plain": [
              "'/content/DL_project_ENSAE'"
            ]
          },
          "metadata": {
            "tags": []
          },
          "execution_count": 53
        }
      ]
    },
    {
      "cell_type": "code",
      "metadata": {
        "id": "Fe0vjzKXxND4",
        "colab_type": "code",
        "colab": {}
      },
      "source": [
        "os.mkdir('images/')"
      ],
      "execution_count": 0,
      "outputs": []
    },
    {
      "cell_type": "code",
      "metadata": {
        "id": "I0hU1cUOxQjg",
        "colab_type": "code",
        "colab": {}
      },
      "source": [
        ""
      ],
      "execution_count": 0,
      "outputs": []
    }
  ]
}